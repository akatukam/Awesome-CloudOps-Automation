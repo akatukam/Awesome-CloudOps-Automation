{
 "cells": [
  {
   "cell_type": "markdown",
   "id": "82eebdfd-c880-40df-bd6d-5b546c92164b",
   "metadata": {
    "jupyter": {
     "source_hidden": false
    },
    "name": "Steps Overview",
    "orderProperties": [],
    "tags": [],
    "title": "Steps Overview"
   },
   "source": [
    "<center><img src=\"https://unskript.com/assets/favicon.png\" alt=\"unSkript.com\" width=\"100\" height=\"100\">\n",
    "<h1 id=\"unSkript-Runbooks\">unSkript Runbooks</h1>\n",
    "<div class=\"alert alert-block alert-success\">\n",
    "<h3 id=\"Objective\">Objective</h3>\n",
    "<br><strong style=\"color: #000000;\"><em>Find and Delete Elastic Load Balancers that don't have any target groups or instances assosiated with them</em></strong></div>\n",
    "</center>\n",
    "<p>&nbsp;</p>\n",
    "<center>\n",
    "<h2 id=\"Release-Unattached-AWS-Elastic-IPs\"><strong><u>Delete ELBs With No Target Groups or Instances</u></strong></h2>\n",
    "</center>\n",
    "<h1 id=\"Steps-Overview\">Steps Overview</h1>\n",
    "<p>1)<a href=\"#1\" target=\"_self\" rel=\"noopener\"> Find AWS ELBs with no targets or instances</a><br>2)<a href=\"#2\" target=\"_self\" rel=\"noopener\"> Delete Load Balancers</a></p>"
   ]
  },
  {
   "cell_type": "code",
   "execution_count": null,
   "id": "1290c59b-9107-46c0-8f0b-8dce39e91ef9",
   "metadata": {
    "customAction": true,
    "execution_data": {
     "last_date_success_run_cell": "2023-04-27T09:32:23.290Z"
    },
    "jupyter": {
     "source_hidden": true
    },
    "name": "Input Verification",
    "orderProperties": [],
    "tags": [],
    "title": "Input Verification",
    "credentialsJson": {}
   },
   "outputs": [],
   "source": [
    "if elb_arns and not region:\n",
    "    raise SystemExit(\"Provide a region for the ELB ARNs !\")\n",
    "if elb_names and not region:\n",
    "    raise SystemExit(\"Provide a region for the ELB names !\")\n",
    "if elb_arns and elb_names and not region:\n",
    "    raise SystemExit(\"Provide a region for the ELB ARNs and ELB names!\")"
   ],
   "output": {}
  },
  {
   "cell_type": "markdown",
   "id": "93889351-e132-4fb5-9e3f-43fbba454161",
   "metadata": {
    "jupyter": {
     "source_hidden": false
    },
    "name": "Step 1A",
    "orderProperties": [],
    "tags": [],
    "title": "Step 1A"
   },
   "source": [
    "<h3 id=\"List-all-AWS-Regions\">List all AWS Regions</h3>\n",
    "<p>This action fetches all AWS Regions to execute Step 1\ud83d\udc47. This action will only execute if no <code>region</code> is provided.</p>\n",
    "<blockquote>\n",
    "<p>This action takes the following parameters: <code>None</code></p>\n",
    "</blockquote>\n",
    "<blockquote>\n",
    "<p>This action captures the following ouput: <code>region</code></p>\n",
    "</blockquote>"
   ]
  },
  {
   "cell_type": "code",
   "execution_count": null,
   "id": "3b671c5d-5bc0-4b24-968e-a6af3964d9df",
   "metadata": {
    "actionBashCommand": false,
    "actionCategories": [
     "CATEGORY_TYPE_CLOUDOPS",
     "CATEGORY_TYPE_DEVOPS",
     "CATEGORY_TYPE_SRE",
     "CATEGORY_TYPE_AWS"
    ],
    "actionDescription": "List all available AWS Regions",
    "actionEntryFunction": "aws_list_all_regions",
    "actionIsCheck": false,
    "actionIsRemediation": false,
    "actionNeedsCredential": true,
    "actionNextHop": null,
    "actionNextHopParameterMapping": null,
    "actionNouns": [
     "regions",
     "aws"
    ],
    "actionOutputType": "ACTION_OUTPUT_TYPE_LIST",
    "actionSupportsIteration": true,
    "actionSupportsPoll": true,
    "actionTitle": "AWS List All Regions",
    "actionType": "LEGO_TYPE_AWS",
    "actionVerbs": [
     "list"
    ],
    "actionVersion": "1.0.0",
    "action_modified": false,
    "action_uuid": "708ea4af5f8fe7096a15b3a52c4a657606bab9e177386fad7a847341ed607d64",
    "condition_enabled": true,
    "description": "List all available AWS Regions",
    "execution_data": {
     "last_date_success_run_cell": "2023-04-27T09:32:28.787Z"
    },
    "id": 1,
    "index": 1,
    "inputschema": [
     {
      "properties": {},
      "title": "aws_list_all_regions",
      "type": "object"
     }
    ],
    "jupyter": {
     "source_hidden": true
    },
    "language": "python",
    "legotype": "LEGO_TYPE_AWS",
    "name": "AWS List All Regions",
    "orderProperties": [],
    "outputParams": {
     "output_name": "region",
     "output_name_enabled": true,
     "output_runbook_enabled": false,
     "output_runbook_name": ""
    },
    "printOutput": true,
    "startcondition": "not region",
    "tags": [
     "aws_list_all_regions"
    ],
    "uuid": "708ea4af5f8fe7096a15b3a52c4a657606bab9e177386fad7a847341ed607d64",
    "version": "1.0.0",
    "credentialsJson": {}
   },
   "outputs": [],
   "source": [
    "#\n",
    "# Copyright (c) 2021 unSkript.com\n",
    "# All rights reserved.\n",
    "#\n",
    "\n",
    "from pydantic import BaseModel, Field\n",
    "from typing import Dict, List\n",
    "import pprint\n",
    "\n",
    "from beartype import beartype\n",
    "@beartype\n",
    "def aws_list_all_regions_printer(output):\n",
    "    if output is None:\n",
    "        return\n",
    "    pprint.pprint(output)\n",
    "\n",
    "\n",
    "@beartype\n",
    "def aws_list_all_regions(handle) -> List:\n",
    "    \"\"\"aws_list_all_regions lists all the AWS regions\n",
    "\n",
    "        :type handle: object\n",
    "        :param handle: Object returned from Task Validate\n",
    "\n",
    "        :rtype: Result List of result\n",
    "    \"\"\"\n",
    "\n",
    "    result = handle.aws_cli_command(\"aws ec2 --region us-west-2 describe-regions --all-regions --query 'Regions[].{Name:RegionName}' --output text\")\n",
    "    if result is None or result.returncode != 0:\n",
    "        print(\"Error while executing command : {}\".format(result))\n",
    "        return str()\n",
    "    result_op = list(result.stdout.split(\"\\n\"))\n",
    "    list_region = [x for x in result_op if x != '']\n",
    "    return list_region\n",
    "\n",
    "\n",
    "task = Task(Workflow())\n",
    "task.configure(conditionsJson='''{\n",
    "    \"condition_enabled\": true,\n",
    "    \"condition_cfg\": \"not region\",\n",
    "    \"condition_result\": true\n",
    "    }''')\n",
    "\n",
    "task.configure(outputName=\"region\")\n",
    "\n",
    "task.configure(printOutput=True)\n",
    "(err, hdl, args) = task.validate(vars=vars())\n",
    "if err is None:\n",
    "    task.execute(aws_list_all_regions, lego_printer=aws_list_all_regions_printer, hdl=hdl, args=args)"
   ],
   "output": {}
  },
  {
   "cell_type": "markdown",
   "id": "2020e8d0-ba3b-4c71-84b2-10917465a27e",
   "metadata": {
    "jupyter": {
     "source_hidden": false
    },
    "name": "Step 1",
    "orderProperties": [],
    "tags": [],
    "title": "Step 1"
   },
   "source": [
    "<h3 id=\"Find-unattached-Elastic-IPs\"><a id=\"1\" target=\"_self\" rel=\"nofollow\"></a>Find AWS ELBs with no targets or instances</h3>\n",
    "<p>Using unSkript's Find AWS ELBs with no targets or instances action, we will find ELBs that don't have any target groups in the case of Application Load Balancers's or&nbsp;Network Load Balancers's and Classic Load Balancers that have no&nbsp; instances associated to them.</p>\n",
    "<blockquote>\n",
    "<p>This action takes the following parameters: <code>region</code></p>\n",
    "</blockquote>\n",
    "<blockquote>\n",
    "<p>This action captures the following output: <code>elbs_with_no_targets</code></p>\n",
    "</blockquote>"
   ]
  },
  {
   "cell_type": "code",
   "execution_count": null,
   "id": "f286f631-4c7d-45cc-8104-5608cb5b9faf",
   "metadata": {
    "actionBashCommand": "false",
    "actionDescription": "Find AWS ELBs with no targets or instances attached to them.",
    "actionEntryFunction": "aws_find_elb_with_no_targets_or_instances",
    "actionIsCheck": "false",
    "actionNeedsCredential": "true",
    "actionOutputType": "ACTION_OUTPUT_TYPE_LIST",
    "actionSupportsIteration": "true",
    "actionSupportsPoll": "true",
    "actionTitle": "Find AWS ELBs with no targets or instances",
    "actionType": "LEGO_TYPE_AWS",
    "actionVersion": "1.0.0",
    "action_modified": false,
    "action_uuid": "11465502-0fad-4c5b-ae23-e28fa1c24132",
    "condition_enabled": true,
    "continueOnError": true,
    "custom_cell": true,
    "description": "Find AWS ELBs with no targets or instances attached to them.",
    "execution_data": {
     "last_date_success_run_cell": "2023-04-26T12:41:11.933Z"
    },
    "id": 1,
    "index": 1,
    "inputData": [
     {
      "region": {
       "constant": false,
       "value": "iter_item"
      }
     }
    ],
    "inputschema": [
     {
      "properties": {
       "region": {
        "default": "",
        "description": "AWS Region.",
        "title": "region",
        "type": "string"
       }
      },
      "required": [],
      "title": "aws_find_elb_with_no_targets_or_instances",
      "type": "object"
     }
    ],
    "iterData": [
     {
      "iter_enabled": true,
      "iter_item": "region",
      "iter_list": {
       "constant": false,
       "objectItems": false,
       "value": "region"
      }
     }
    ],
    "jupyter": {
     "source_hidden": true
    },
    "language": "python",
    "legotype": "LEGO_TYPE_AWS",
    "name": "Find AWS ELBs with no targets or instances",
    "orderProperties": [
     "region"
    ],
    "outputParams": {
     "output_name": "elbs_with_no_targets",
     "output_name_enabled": true,
     "output_runbook_enabled": false,
     "output_runbook_name": ""
    },
    "printOutput": true,
    "startcondition": "not elb_arns and not elb_names",
    "tags": [],
    "title": "Find AWS ELBs with no targets or instances",
    "uuid": "11465502-0fad-4c5b-ae23-e28fa1c24132",
    "version": "1.0.0",
    "credentialsJson": {}
   },
   "outputs": [],
   "source": [
    "##\n",
    "##  Copyright (c) 2023 unSkript, Inc\n",
    "##  All rights reserved.\n",
    "##\n",
    "from pydantic import BaseModel, Field\n",
    "from typing import Optional, Tuple\n",
    "from unskript.legos.aws.aws_list_all_regions.aws_list_all_regions import aws_list_all_regions\n",
    "from unskript.connectors.aws import aws_get_paginator\n",
    "import pprint\n",
    "\n",
    "\n",
    "def aws_find_elb_with_no_targets_or_instances_printer(output):\n",
    "    if output is None:\n",
    "        return\n",
    "    pprint.pprint(output)\n",
    "\n",
    "def aws_find_elb_with_no_targets_or_instances(handle, region: str = \"\")->Tuple:\n",
    "    result = []\n",
    "    all_load_balancers = []\n",
    "    all_regions = [region]\n",
    "    if not region:\n",
    "        all_regions = aws_list_all_regions(handle)\n",
    "    for reg in all_regions:\n",
    "        try:\n",
    "            elbv2Client = handle.client('elbv2', region_name=reg)\n",
    "            elbv2_response = aws_get_paginator(elbv2Client, \"describe_load_balancers\", \"LoadBalancers\")\n",
    "            elbClient = handle.client('elb', region_name=reg)\n",
    "            elb_response = elbClient.describe_load_balancers()\n",
    "            for lb in elbv2_response:\n",
    "                elb_dict = {}\n",
    "                elb_dict[\"load_balancer_name\"] = lb['LoadBalancerName']\n",
    "                elb_dict[\"load_balancer_arn\"] = lb['LoadBalancerArn']\n",
    "                elb_dict[\"load_balancer_type\"] = lb['Type']\n",
    "                elb_dict[\"load_balancer_dns\"] = lb['DNSName']\n",
    "                elb_dict[\"region\"] = reg\n",
    "                all_load_balancers.append(elb_dict)\n",
    "            for lb in elb_response['LoadBalancerDescriptions']:\n",
    "                elb_dict = {}\n",
    "                elb_dict[\"load_balancer_name\"] = lb['LoadBalancerName']\n",
    "                elb_dict[\"load_balancer_type\"] = 'classic'\n",
    "                elb_dict[\"load_balancer_dns\"] = lb['DNSName']\n",
    "                elb_dict[\"region\"] = reg\n",
    "                all_load_balancers.append(elb_dict)\n",
    "        except Exception as e:\n",
    "            pass\n",
    "    for load_balancer in all_load_balancers:\n",
    "        if load_balancer['load_balancer_type']=='network' or load_balancer['load_balancer_type']=='application':\n",
    "            elbv2Client = handle.client('elbv2', region_name=load_balancer['region'])\n",
    "            target_groups = elbv2Client.describe_target_groups(\n",
    "                LoadBalancerArn=load_balancer['load_balancer_arn']\n",
    "            )\n",
    "            if len(target_groups['TargetGroups']) == 0:\n",
    "                    elb_dict = {}\n",
    "                    elb_dict[\"elb_arn\"] = load_balancer['load_balancer_arn']\n",
    "                    elb_dict[\"elb_name\"] = load_balancer['load_balancer_name']\n",
    "                    elb_dict[\"region\"] = load_balancer['region']\n",
    "                    elb_dict[\"type\"] = load_balancer['load_balancer_type']\n",
    "                    result.append(elb_dict)\n",
    "        else:\n",
    "            elbClient = handle.client('elb', region_name=load_balancer['region'])\n",
    "            res = elbClient.describe_instance_health(\n",
    "                LoadBalancerName=load_balancer['load_balancer_name'],\n",
    "            )\n",
    "            if len(res['InstanceStates'])==0:\n",
    "                elb_dict = {}\n",
    "                elb_dict[\"elb_name\"] = load_balancer['load_balancer_name']\n",
    "                elb_dict[\"region\"] = load_balancer['region']\n",
    "                elb_dict[\"type\"] = load_balancer['load_balancer_type']\n",
    "                result.append(elb_dict)\n",
    "    if len(result) != 0:\n",
    "        return (False, result)\n",
    "    else:\n",
    "        return (True, None)\n",
    "\n",
    "\n",
    "task = Task(Workflow())\n",
    "task.configure(continueOnError=True)\n",
    "task.configure(conditionsJson='''{\n",
    "    \"condition_enabled\": true,\n",
    "    \"condition_cfg\": \"not elb_arns and not elb_names\",\n",
    "    \"condition_result\": true\n",
    "    }''')\n",
    "task.configure(outputName=\"elbs_with_no_targets\")\n",
    "\n",
    "task.configure(inputParamsJson='''\"iter_item\"\n",
    "''')\n",
    "task.configure(iterJson='''{\n",
    "    \"iter_enabled\": true,\n",
    "    \"iter_list_is_const\": false,\n",
    "    \"iter_list\": \"region\",\n",
    "    \"iter_parameter\": \"region\"\n",
    "    }''')\n",
    "task.configure(printOutput=True)\n",
    "(err, hdl, args) = task.validate(vars=vars())\n",
    "if err is None:\n",
    "    task.execute(aws_find_elb_with_no_targets_or_instances, lego_printer=aws_find_elb_with_no_targets_or_instances_printer, hdl=hdl, args=args)"
   ],
   "output": {}
  },
  {
   "cell_type": "markdown",
   "id": "a311041f-620a-4b6b-914f-e52c6c3a71f4",
   "metadata": {
    "jupyter": {
     "source_hidden": false
    },
    "name": "Step 2A",
    "orderProperties": [],
    "tags": [],
    "title": "Step 2A"
   },
   "source": [
    "<h3 id=\"Create-List-of-unattached-Elastic-IPs\">Create List of ELBs with no targets or instances</h3>\n",
    "<p>This action filters regions that have no ELB's without targets and instances and creates a list of those that have them.</p>\n",
    "<blockquote>\n",
    "<p>This action takes the following parameters: <code>None</code></p>\n",
    "</blockquote>\n",
    "<blockquote>\n",
    "<p>This action captures the following output: <code>elb_classic_list, elbv2_list</code></p>\n",
    "</blockquote>"
   ]
  },
  {
   "cell_type": "code",
   "execution_count": null,
   "id": "b85ce542-bdf0-44d2-9e75-213002d5c036",
   "metadata": {
    "customAction": true,
    "execution_data": {
     "last_date_success_run_cell": "2023-04-27T09:40:17.362Z"
    },
    "jupyter": {
     "source_hidden": true
    },
    "name": "Create List of ELBs with no targets or instances",
    "orderProperties": [],
    "tags": [],
    "title": "Create List of ELBs with no targets or instances",
    "credentialsJson": {}
   },
   "outputs": [],
   "source": [
    "elb_classic_list = []\n",
    "elbv2_list = []\n",
    "try:\n",
    "    for reg,res in elbs_with_no_targets.items():\n",
    "        if res[0] == False:\n",
    "            if len(res[1]) != 0:\n",
    "                for elb in res[1]:\n",
    "                    if 'elb_arn' in elb.keys():\n",
    "                        elbv2_list.append(elb)\n",
    "                    else:\n",
    "                        elb_classic_list.append(elb)\n",
    "except Exception:\n",
    "    if elb_arns:\n",
    "        for arn in elb_arns:\n",
    "            data_dict = {}\n",
    "            data_dict[\"region\"] = region[0]\n",
    "            data_dict[\"elb_arn\"] = arn\n",
    "            elbv2_list.append(data_dict)\n",
    "    if elb_names:\n",
    "        for name in elb_names:\n",
    "            data_dict = {}\n",
    "            data_dict[\"region\"] = region[0]\n",
    "            data_dict[\"elb_name\"] = name\n",
    "            elb_classic_list.append(data_dict)\n",
    "print(\"Network/Application Load Balancers\",\"\\n\",elbv2_list, \"\\n\", \"Classic Load Balancers\", \"\\n\", elb_classic_list)\n",
    "task.configure(outputName=\"all_elbs_with_no_targets\")"
   ],
   "output": {}
  },
  {
   "cell_type": "markdown",
   "id": "9fb3704a-9b19-49c4-96ab-a982217bbcd3",
   "metadata": {
    "jupyter": {
     "source_hidden": false
    },
    "name": "Step 2 - Part 1",
    "orderProperties": [],
    "tags": [],
    "title": "Step 2 - Part 1"
   },
   "source": [
    "<h3 id=\"Delete-Load-Balancers\"><a id=\"2\" target=\"_self\" rel=\"nofollow\"></a>Delete Load Balancers</h3>\n",
    "<p>This action deletes Network and Application ELBs found in Step 1.&nbsp;</p>\n",
    "<blockquote>\n",
    "<p>This action takes the following parameters:&nbsp;<code>region, elb_arn</code></p>\n",
    "</blockquote>"
   ]
  },
  {
   "cell_type": "code",
   "execution_count": null,
   "id": "6cc916b0-7645-4140-a3a3-7de54b1958c3",
   "metadata": {
    "actionBashCommand": false,
    "actionCategories": [
     "CATEGORY_TYPE_DEVOPS",
     "CATEGORY_TYPE_SRE",
     "CATEGORY_TYPE_AWS"
    ],
    "actionDescription": "AWS Delete Load Balancer",
    "actionEntryFunction": "aws_delete_load_balancer",
    "actionIsCheck": false,
    "actionIsRemediation": false,
    "actionNeedsCredential": true,
    "actionNextHop": null,
    "actionNextHopParameterMapping": null,
    "actionNouns": null,
    "actionOutputType": "ACTION_OUTPUT_TYPE_DICT",
    "actionSupportsIteration": true,
    "actionSupportsPoll": true,
    "actionTitle": "AWS Delete Load Balancer",
    "actionType": "LEGO_TYPE_AWS",
    "actionVerbs": null,
    "actionVersion": "1.0.0",
    "action_modified": false,
    "action_uuid": "bb9ec9e116f23c18a3974ae84f985b60a62db4bf6a03bfe367b7881227ceac8b",
    "condition_enabled": true,
    "continueOnError": true,
    "description": "AWS Delete Load Balancer",
    "execution_data": {
     "last_date_success_run_cell": "2023-04-27T09:33:17.571Z"
    },
    "id": 1,
    "index": 1,
    "inputData": [
     {
      "elb_arn": {
       "constant": false,
       "value": "\"iter.get(\\\\\"elb_arn\\\\\")\""
      },
      "region": {
       "constant": false,
       "value": "\"iter.get(\\\\\"region\\\\\")\""
      }
     }
    ],
    "inputschema": [
     {
      "properties": {
       "elb_arn": {
        "description": "load balancer ARNs.",
        "title": "Load Balancer ARNs",
        "type": "string"
       },
       "region": {
        "description": "AWS Region.",
        "title": "Region",
        "type": "string"
       }
      },
      "required": [
       "elb_arn",
       "region"
      ],
      "title": "aws_delete_load_balancer",
      "type": "object"
     }
    ],
    "iterData": [
     {
      "iter_enabled": true,
      "iter_item": {
       "elb_arn": "elb_arn",
       "region": "region"
      },
      "iter_list": {
       "constant": false,
       "objectItems": true,
       "value": "elbv2_list"
      }
     }
    ],
    "jupyter": {
     "source_hidden": true
    },
    "language": "python",
    "legotype": "LEGO_TYPE_AWS",
    "name": "AWS Delete Load Balancer",
    "orderProperties": [
     "elb_arn",
     "region"
    ],
    "printOutput": true,
    "startcondition": "len(elbv2_list)!=0",
    "tags": [
     "aws_delete_load_balancer"
    ],
    "uuid": "bb9ec9e116f23c18a3974ae84f985b60a62db4bf6a03bfe367b7881227ceac8b",
    "version": "1.0.0",
    "credentialsJson": {}
   },
   "outputs": [],
   "source": [
    "##\n",
    "# Copyright (c) 2021 unSkript, Inc\n",
    "# All rights reserved.\n",
    "##\n",
    "from pydantic import BaseModel, Field\n",
    "from typing import Optional, Dict\n",
    "import pprint\n",
    "\n",
    "\n",
    "from beartype import beartype\n",
    "@beartype\n",
    "def aws_delete_load_balancer_printer(output):\n",
    "    if output is None:\n",
    "        return\n",
    "    pprint.pprint(output)\n",
    "\n",
    "\n",
    "@beartype\n",
    "def aws_delete_load_balancer(handle, region: str, elb_arn: str) -> Dict:\n",
    "    \"\"\"aws_delete_load_balancer dict of loadbalancers info.\n",
    "\n",
    "        :type region: string\n",
    "        :param region: AWS Region.\n",
    "\n",
    "        :type elb_arn: string\n",
    "        :param elb_arn: load balancer ARNs.\n",
    "\n",
    "        :rtype: dict of load balancers info.\n",
    "    \"\"\"\n",
    "    try:\n",
    "        ec2Client = handle.client('elbv2', region_name=region)\n",
    "        response = ec2Client.delete_load_balancer(LoadBalancerArn=elb_arn)\n",
    "        return response\n",
    "    except Exception as e:\n",
    "        raise Exception(e)\n",
    "\n",
    "\n",
    "task = Task(Workflow())\n",
    "task.configure(continueOnError=True)\n",
    "task.configure(inputParamsJson='''{\n",
    "    \"elb_arn\": \"iter.get(\\\\\"elb_arn\\\\\")\",\n",
    "    \"region\": \"iter.get(\\\\\"region\\\\\")\"\n",
    "    }''')\n",
    "task.configure(iterJson='''{\n",
    "    \"iter_enabled\": true,\n",
    "    \"iter_list_is_const\": false,\n",
    "    \"iter_list\": \"elbv2_list\",\n",
    "    \"iter_parameter\": [\"elb_arn\",\"region\"]\n",
    "    }''')\n",
    "task.configure(conditionsJson='''{\n",
    "    \"condition_enabled\": true,\n",
    "    \"condition_cfg\": \"len(elbv2_list)!=0\",\n",
    "    \"condition_result\": true\n",
    "    }''')\n",
    "\n",
    "task.configure(printOutput=True)\n",
    "(err, hdl, args) = task.validate(vars=vars())\n",
    "if err is None:\n",
    "    task.execute(aws_delete_load_balancer, lego_printer=aws_delete_load_balancer_printer, hdl=hdl, args=args)"
   ],
   "output": {}
  },
  {
   "cell_type": "markdown",
   "id": "21e8bef7-c3a3-47a4-9b63-ea57b3cd9043",
   "metadata": {
    "name": "Step 2 - Part 2",
    "orderProperties": [],
    "tags": [],
    "title": "Step 2 - Part 2"
   },
   "source": [
    "<h3 id=\"Delete-Load-Balancers\"><a id=\"2\" target=\"_self\" rel=\"nofollow\"></a>Delete Classic Load Balancers</h3>\n",
    "<p>This action deletes Classic ELBs found in Step 1.&nbsp;</p>\n",
    "<blockquote>\n",
    "<p>This action takes the following parameters:&nbsp;<code>region, elb_name</code></p>\n",
    "</blockquote>"
   ]
  },
  {
   "cell_type": "code",
   "execution_count": null,
   "id": "50950ee0-26f2-405e-84dd-7f8f509984fb",
   "metadata": {
    "actionBashCommand": "false",
    "actionDescription": "Delete Classic Elastic Load Balancers",
    "actionEntryFunction": "aws_delete_classic_load_balancer",
    "actionIsCheck": "false",
    "actionNeedsCredential": "true",
    "actionOutputType": "ACTION_OUTPUT_TYPE_DICT",
    "actionSupportsIteration": "true",
    "actionSupportsPoll": "true",
    "actionTitle": "AWS Delete Classic Load Balancer",
    "actionType": "LEGO_TYPE_AWS",
    "actionVersion": "1.0.0",
    "action_modified": false,
    "action_uuid": "45801256-5087-41ac-8ffa-1c270eb9ac0a",
    "condition_enabled": true,
    "continueOnError": true,
    "custom_cell": true,
    "description": "Delete Classic Elastic Load Balancers",
    "id": 1,
    "index": 1,
    "inputData": [
     {
      "elb_name": {
       "constant": false,
       "value": "\"iter.get(\\\\\"elb_name\\\\\")\""
      },
      "region": {
       "constant": false,
       "value": "\"iter.get(\\\\\"region\\\\\")\""
      }
     }
    ],
    "inputschema": [
     {
      "properties": {
       "elb_name": {
        "default": "",
        "description": "Name of classic ELB",
        "title": "elb_name",
        "type": "string"
       },
       "region": {
        "default": "",
        "description": "AWS Region.",
        "title": "Region",
        "type": "string"
       }
      },
      "required": [
       "region",
       "elb_name"
      ],
      "title": "aws_delete_classic_load_balancer",
      "type": "object"
     }
    ],
    "iterData": [
     {
      "iter_enabled": true,
      "iter_item": {
       "elb_name": "elb_name",
       "region": "region"
      },
      "iter_list": {
       "constant": false,
       "objectItems": true,
       "value": "elb_classic_list"
      }
     }
    ],
    "jupyter": {
     "source_hidden": true
    },
    "language": "python",
    "legotype": "LEGO_TYPE_AWS",
    "name": "AWS Delete Classic Load Balancer",
    "orderProperties": [
     "region",
     "elb_name"
    ],
    "printOutput": true,
    "startcondition": "len(elb_classic_list)!=0",
    "tags": [],
    "uuid": "45801256-5087-41ac-8ffa-1c270eb9ac0a",
    "version": "1.0.0",
    "credentialsJson": {}
   },
   "outputs": [],
   "source": [
    "##\n",
    "# Copyright (c) 2021 unSkript, Inc\n",
    "# All rights reserved.\n",
    "##\n",
    "from pydantic import BaseModel, Field\n",
    "from typing import Optional, Dict\n",
    "import pprint\n",
    "\n",
    "\n",
    "def aws_delete_classic_load_balancer_printer(output):\n",
    "    if output is None:\n",
    "        return\n",
    "    pprint.pprint(output)\n",
    "\n",
    "\n",
    "def aws_delete_classic_load_balancer(handle, region: str, elb_name: str) -> Dict:\n",
    "    \"\"\"aws_delete_classic_load_balancer reponse of deleting a classic load balancer.\n",
    "\n",
    "        :type region: string\n",
    "        :param region: AWS Region.\n",
    "\n",
    "        :type elb_arn: string\n",
    "        :param elb_arn: Classic load balancer name.\n",
    "\n",
    "        :rtype: dict of deleted load balancers reponse.\n",
    "    \"\"\"\n",
    "    try:\n",
    "        elblient = handle.client('elb', region_name=region)\n",
    "        response = elblient.delete_load_balancer(LoadBalancerName=elb_name)\n",
    "        return response\n",
    "    except Exception as e:\n",
    "        raise Exception(e)\n",
    "\n",
    "\n",
    "task = Task(Workflow())\n",
    "task.configure(inputParamsJson='''\"iter.get(\\\\\"elb_name\\\\\")\"\n",
    "''')\n",
    "task.configure(iterJson='''{\n",
    "    \"iter_enabled\": true,\n",
    "    \"iter_list_is_const\": false,\n",
    "    \"iter_list\": \"elb_classic_list\",\n",
    "    \"iter_parameter\": [\"elb_name\",\"region\"]\n",
    "    }''')\n",
    "task.configure(conditionsJson='''{\n",
    "    \"condition_enabled\": true,\n",
    "    \"condition_cfg\": \"len(elb_classic_list)!=0\",\n",
    "    \"condition_result\": true\n",
    "    }''')\n",
    "\n",
    "task.configure(continueOnError=True)\n",
    "\n",
    "task.configure(printOutput=True)\n",
    "(err, hdl, args) = task.validate(vars=vars())\n",
    "if err is None:\n",
    "    task.execute(aws_delete_classic_load_balancer, lego_printer=aws_delete_classic_load_balancer_printer, hdl=hdl, args=args)"
   ],
   "output": {}
  },
  {
   "cell_type": "markdown",
   "id": "9c7430c8-3660-45bd-90ef-9ceab77e3daa",
   "metadata": {
    "jupyter": {
     "source_hidden": false
    },
    "name": "Conclusion",
    "orderProperties": [],
    "tags": [],
    "title": "Conclusion"
   },
   "source": [
    "<h3 id=\"Conclusion\">Conclusion</h3>\n",
    "<p>In this Runbook, we were able to check for any AWS Elastic Load Balancers with no target groups or instances in our AWS account and release (remove) them in order to lower AWS costs. To view the full platform capabilities of unSkript please visit&nbsp;<a href=\"https://us.app.unskript.io\" target=\"_blank\" rel=\"noopener\">us.app.unskript.io</a></p>"
   ]
  }
 ],
 "metadata": {
  "execution_data": {
   "environment_name": "",
   "environment_type": "ENVIRONMENT_TYPE_AWS_EC2",
   "execution_id": "",
   "inputs_for_searched_lego": "",
   "notebook_id": "2f40376b-5fc2-4b1a-98c8-68993633e8f4.ipynb",
   "parameters": null,
   "proxy_id": "1499f27c-6406-4fbd-bd1b-c6f92800018f",
   "runbook_name": "AWS Delete ELB's With No Targets Or Instances",
   "search_string": "",
   "show_tool_tip": false,
   "tenant_id": "",
   "tenant_url": "",
   "user_email_id": "",
   "workflow_id": "2b184767-1b8f-46e4-a191-b2b062148978",
   "environment_id": ""
  },
  "kernelspec": {
   "display_name": "unSkript (Build: 1093)",
   "language": "python",
   "name": "python3"
  },
  "language_info": {
   "codemirror_mode": {
    "name": "ipython",
    "version": 3
   },
   "file_extension": ".py",
   "mimetype": "text/x-python",
   "name": "python",
   "nbconvert_exporter": "python",
   "pygments_lexer": "ipython3",
   "version": "3.10.6"
  },
  "outputParameterSchema": {
   "properties": {},
   "required": [],
   "title": "Schema",
   "type": "object"
  },
  "parameterSchema": {
   "properties": {
    "elb_arns": {
     "description": "List of ELB ARNs for type Network and Application Load Balancer",
     "title": "elb_arns",
     "type": "array"
    },
    "elb_names": {
     "description": "List of ELB Names for Classic load balancers",
     "title": "elb_names",
     "type": "array"
    },
    "region": {
     "description": "AWS Region(s) to search for unattached Elastic IPs. Eg: [\"us-west-2\",\"ap-south-1\"]",
     "title": "region",
     "type": "array"
    }
   },
   "required": [],
   "title": "Schema",
   "type": "object"
  },
  "vscode": {
   "interpreter": {
    "hash": "b0fa6594d8f4cbf19f97940f81e996739fb7646882a419484c72d19e05852a7e"
   }
  }
 },
 "nbformat": 4,
 "nbformat_minor": 5
}