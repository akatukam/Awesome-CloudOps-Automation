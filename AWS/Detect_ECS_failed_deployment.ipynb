{
 "cells": [
  {
   "cell_type": "code",
   "execution_count": null,
   "id": "767dfef5-d0f3-499e-8ff2-d2ff3443a6d1",
   "metadata": {
    "deletable": false,
    "editable": false,
    "jupyter": {
     "source_hidden": true
    },
    "orderProperties": [],
    "tags": [
     "unSkript:nbParam"
    ],
    "title": "unSkript Internal"
   },
   "outputs": [],
   "source": [
    "import json\n",
    "from unskript import nbparams\n",
    "from unskript.fwk.workflow import Task, Workflow\n",
    "from unskript.secrets import ENV_MODE, ENV_MODE_LOCAL\n",
    "\n",
    "env = {\"ENV_MODE\": \"ENV_MODE_LOCAL\"}\n",
    "secret_store_cfg = {\"SECRET_STORE_TYPE\": \"SECRET_STORE_TYPE_LOCAL\"}\n",
    "\n",
    "paramDict = {\"Channel\": None, \"ClusterName\": None, \"Region\": None, \"ServiceName\": None}\n",
    "unSkriptOutputParamDict = {}\n",
    "paramDict.update(env)\n",
    "paramDict.update(secret_store_cfg)\n",
    "paramsJson = json.dumps(paramDict)\n",
    "nbParamsObj = nbparams.NBParams(paramsJson)\n",
    "Channel = nbParamsObj.get('Channel')\n",
    "ClusterName = nbParamsObj.get('ClusterName')\n",
    "Region = nbParamsObj.get('Region')\n",
    "ServiceName = nbParamsObj.get('ServiceName')\n",
    "w = Workflow(env, secret_store_cfg, None, global_vars=globals())"
   ]
  },
  {
   "cell_type": "markdown",
   "id": "111d99a7",
   "metadata": {
    "orderProperties": [],
    "tags": []
   },
   "source": [
    "<p><img src=\"https://unskript.com/assets/favicon.png\" alt=\"unSkript.com\" width=\"100\" height=\"100\"></p>\n",
    "<h1 id=\"-unSkript-Runbooks-\">unSkript Runbooks <a class=\"jp-InternalAnchorLink\" href=\"#-unSkript-Runbooks-\" target=\"_self\">&para;</a></h1>\n",
    "<div class=\"alert alert-block alert-success\"><strong>&nbsp;This runbook demonstrates how to detect failed ECS deployments.</strong></div>\n",
    "<p>&nbsp;</p>\n",
    "<center>\n",
    "<h2 id=\"Detect-Failed-ECS-Deployment\">Detect failed ECS deployments<a class=\"jp-InternalAnchorLink\" href=\"#Detect-Failed-ECS-Deployment\" target=\"_self\">&para;</a></h2>\n",
    "</center>\n",
    "<h2 id=\"Steps-Overview\">Steps Overview<a class=\"jp-InternalAnchorLink\" href=\"#Steps-Overview\" target=\"_self\">&para;</a></h2>\n",
    "<ol>\n",
    "<li>Find out the deployments in progress.</li>\n",
    "<li>Figure out the tasks, which are in STOPPED state because of these deployments.</li>\n",
    "<li>Post a Slack Message with the list of failed tasks and reason.</li>\n",
    "</ol>"
   ]
  },
  {
   "cell_type": "code",
   "execution_count": null,
   "id": "415ed2a1-9cc4-44a6-b74e-27dc9ee66256",
   "metadata": {
    "accessType": "ACCESS_TYPE_UNSPECIFIED",
    "actionBashCommand": false,
    "actionNeedsCredential": true,
    "actionSupportsIteration": true,
    "actionSupportsPoll": true,
    "action_uuid": "32a78f4ec627183ee0b4a1c3737064d6ced94c093070151890c7557750d94fc0",
    "createTime": "1970-01-01T00:00:00Z",
    "credentialsJson": {},
    "currentVersion": "0.1.0",
    "description": "List of stopped tasks, associated with a deployment, along with their stopped reason",
    "id": 102,
    "index": 102,
    "inputData": [
     {
      "cluster_name": {
       "constant": false,
       "value": "ClusterName"
      },
      "region": {
       "constant": false,
       "value": "Region"
      },
      "service_name": {
       "constant": false,
       "value": "ServiceName"
      }
     }
    ],
    "inputschema": [
     {
      "properties": {
       "cluster_name": {
        "description": "ECS Cluster name",
        "title": "Cluster name",
        "type": "string"
       },
       "region": {
        "description": "AWS Region of the ECS service.",
        "title": "Region",
        "type": "string"
       },
       "service_name": {
        "description": "ECS Service name in the specified cluster.",
        "title": "Service name",
        "type": "string"
       }
      },
      "required": [
       "cluster_name",
       "service_name",
       "region"
      ],
      "title": "aws_ecs_detect_failed_deployment",
      "type": "object"
     }
    ],
    "legotype": "LEGO_TYPE_AWS",
    "name": "ECS detect failed deployment ",
    "nouns": [
     "ecs",
     "failed",
     "deployment"
    ],
    "orderProperties": [
     "cluster_name",
     "service_name",
     "region"
    ],
    "output": {
     "type": ""
    },
    "printOutput": true,
    "tags": [
     "aws_ecs_detect_failed_deployment"
    ],
    "verbs": [
     "detect"
    ]
   },
   "outputs": [],
   "source": [
    "##\n",
    "##  Copyright (c) 2021 unSkript, Inc\n",
    "##  All rights reserved.\n",
    "##\n",
    "from pydantic import BaseModel, Field\n",
    "from typing import List\n",
    "\n",
    "from beartype import beartype\n",
    "@beartype\n",
    "def aws_ecs_detect_failed_deployment(handle, cluster_name: str, service_name: str, region: str) -> List:\n",
    "    ecsClient = handle.client('ecs', region_name=region)\n",
    "    try:\n",
    "        serviceStatus = ecsClient.describe_services(cluster=cluster_name, services=[service_name])\n",
    "    except Exception as e:\n",
    "        print(f'Failed to get service status for {service_name}, cluster {cluster_name}, {e}')\n",
    "        return None\n",
    "    # When the deployment is in progress, there will be 2 deployment entries, one PRIMARY and one ACTIVE. PRIMARY will eventually replace\n",
    "    # ACTIVE, if its successful.\n",
    "    deployments = serviceStatus.get('services')[0].get('deployments')\n",
    "    if deployments is None:\n",
    "        print(\"Empty deployment\")\n",
    "        return None\n",
    "\n",
    "    deploymentInProgress = False\n",
    "    for deployment in deployments:\n",
    "        if deployment['status'] == \"PRIMARY\":\n",
    "            primaryDeploymentID = deployment['id']\n",
    "        else:\n",
    "            deploymentInProgress = True\n",
    "\n",
    "    if deploymentInProgress is False:\n",
    "        print(\"No deployment in progress\")\n",
    "        return None\n",
    "\n",
    "    # Check if there are any stopped tasks because of this deployment\n",
    "    stoppedTasks = ecsClient.list_tasks(cluster=cluster_name, startedBy=primaryDeploymentID, desiredStatus=\"STOPPED\").get('taskArns')\n",
    "    if len(stoppedTasks) == 0:\n",
    "        print(f'No stopped tasks associated with the deploymentID {primaryDeploymentID}, service {service_name}, cluster {cluster_name}')\n",
    "        return\n",
    "\n",
    "    # Get the reason for the stopped tasks\n",
    "    taskDetails = ecsClient.describe_tasks(cluster=cluster_name, tasks=stoppedTasks)\n",
    "    output = []\n",
    "    for taskDetail in taskDetails.get('tasks'):\n",
    "        output.append({\"TaskARN\":taskDetail['taskArn'], \"StoppedReason\":taskDetail['stoppedReason']})\n",
    "    return output\n",
    "\n",
    "\n",
    "\n",
    "\n",
    "task = Task(Workflow())\n",
    "task.configure(printOutput=True)\n",
    "task.configure(inputParamsJson='''{\n",
    "    \"cluster_name\": \"ClusterName\",\n",
    "    \"region\": \"Region\",\n",
    "    \"service_name\": \"ServiceName\"\n",
    "    }''')\n",
    "\n",
    "(err, hdl, args) = task.validate(vars=vars())\n",
    "if err is None:\n",
    "    task.output = task.execute(aws_ecs_detect_failed_deployment, hdl=hdl, args=args)\n",
    "    if task.output_name != None:\n",
    "        globals().update({task.output_name: task.output[0]})\n",
    "\n",
    "if hasattr(task, 'output'):\n",
    "    if isinstance(task.output, (list, tuple)):\n",
    "        for item in task.output:\n",
    "            print(f'item: {item}')\n",
    "    elif isinstance(task.output, dict):\n",
    "        for item in task.output.items():\n",
    "            print(f'item: {item}')\n",
    "    else:\n",
    "        print(f'Output for {task.name}')\n",
    "        print(task.output)\n",
    "    w.tasks[task.name]= task.output"
   ]
  },
  {
   "cell_type": "markdown",
   "id": "220f3413",
   "metadata": {
    "orderProperties": []
   },
   "source": [
    "## 2 Construct List of failed deployment\n",
    "\n",
    "Here we gather the output from the previous cell execution and iterate over it to find out which Tasks\n",
    "failed to run, the reason of the failure."
   ]
  },
  {
   "cell_type": "code",
   "execution_count": 5,
   "id": "b98ddacd-413b-443d-ba06-4aef7acf0b5d",
   "metadata": {
    "credentialsJson": {},
    "execution_data": {
     "last_date_success_run_cell": "2022-05-03T18:41:56.162Z"
    },
    "name": "Form slack message",
    "orderProperties": [],
    "tags": [],
    "title": "Form slack message"
   },
   "outputs": [],
   "source": [
    "from tabulate import tabulate\n",
    "message = \"\"\n",
    "if len(task.output) > 0:\n",
    "    tasks = []\n",
    "    for i in task.output:\n",
    "        tasks.append([i.get('TaskARN'), i.get('StoppedReason')])\n",
    "    message = f'Stopped tasks in cluster {ClusterName}, service {ServiceName} \\n {tabulate(tasks, headers=[\"TaskARN\", \"Stopped Reason\"], tablefmt=\"grid\")}'\n"
   ]
  },
  {
   "cell_type": "markdown",
   "id": "1c5898d5",
   "metadata": {
    "orderProperties": []
   },
   "source": [
    "## 3 Post Slack Message\n",
    "\n",
    "We post the failed list of deployments on to the given Slack Channel"
   ]
  },
  {
   "cell_type": "code",
   "execution_count": null,
   "id": "3583ea2f-8d64-4ae7-8379-ee360f061bc7",
   "metadata": {
    "accessType": "ACCESS_TYPE_UNSPECIFIED",
    "actionBashCommand": false,
    "actionNeedsCredential": true,
    "actionSupportsIteration": true,
    "actionSupportsPoll": true,
    "action_uuid": "6a87f83ab0ecfeecb9c98d084e2b1066c26fa64be5b4928d5573a5d60299802d",
    "createTime": "1970-01-01T00:00:00Z",
    "credentialsJson": {},
    "currentVersion": "0.1.0",
    "description": "Post Slack Message",
    "id": 44,
    "index": 44,
    "inputData": [
     {
      "channel": {
       "constant": false,
       "value": "Channel"
      },
      "message": {
       "constant": false,
       "value": "message"
      }
     }
    ],
    "inputschema": [
     {
      "properties": {
       "channel": {
        "description": "Name of the slack channel where the message to be posted",
        "title": "Channel",
        "type": "string"
       },
       "message": {
        "description": "Message to be sent",
        "title": "Message",
        "type": "string"
       }
      },
      "required": [
       "channel",
       "message"
      ],
      "title": "slack_post_message",
      "type": "object"
     }
    ],
    "jupyter": {
     "source_hidden": true
    },
    "legotype": "LEGO_TYPE_SLACK",
    "name": "Post Slack Message",
    "nouns": [
     "slack",
     "message"
    ],
    "orderProperties": [
     "channel",
     "message"
    ],
    "output": {
     "type": ""
    },
    "printOutput": true,
    "tags": [
     "slack_post_message"
    ],
    "verbs": [
     "post"
    ]
   },
   "outputs": [],
   "source": [
    "##\n",
    "# Copyright (c) 2021 unSkript, Inc\n",
    "# All rights reserved.\n",
    "##\n",
    "\n",
    "import pprint\n",
    "\n",
    "from pydantic import BaseModel, Field\n",
    "from slack_sdk import WebClient\n",
    "from slack_sdk.errors import SlackApiError\n",
    "\n",
    "pp = pprint.PrettyPrinter(indent=2)\n",
    "\n",
    "\n",
    "from beartype import beartype\n",
    "def legoPrinter(func):\n",
    "    def Printer(*args, **kwargs):\n",
    "        output = func(*args, **kwargs)\n",
    "        if output:\n",
    "            channel = kwargs[\"channel\"]\n",
    "            pp.pprint(print(f\"Message sent to Slack channel {channel}\"))\n",
    "        return output\n",
    "    return Printer\n",
    "\n",
    "\n",
    "@legoPrinter\n",
    "@beartype\n",
    "def slack_post_message(\n",
    "        handle: WebClient,\n",
    "        channel: str,\n",
    "        message: str) -> bool:\n",
    "\n",
    "    try:\n",
    "        response = handle.chat_postMessage(\n",
    "            channel=channel,\n",
    "            text=message)\n",
    "        return True\n",
    "    except SlackApiError as e:\n",
    "        print(\"\\n\\n\")\n",
    "        pp.pprint(\n",
    "            f\"Failed sending message to slack channel {channel}, Error: {e.response['error']}\")\n",
    "        return False\n",
    "    except Exception as e:\n",
    "        print(\"\\n\\n\")\n",
    "        pp.pprint(\n",
    "            f\"Failed sending message to slack channel {channel}, Error: {e.__str__()}\")\n",
    "        return False\n",
    "\n",
    "\n",
    "task = Task(Workflow())\n",
    "task.configure(printOutput=True)\n",
    "task.configure(inputParamsJson='''{\n",
    "    \"channel\": \"Channel\",\n",
    "    \"message\": \"message\"\n",
    "    }''')\n",
    "\n",
    "(err, hdl, args) = task.validate(vars=vars())\n",
    "if err is None:\n",
    "    task.output = task.execute(slack_post_message, hdl=hdl, args=args)\n",
    "    if task.output_name != None:\n",
    "        globals().update({task.output_name: task.output[0]})"
   ]
  },
  {
   "cell_type": "markdown",
   "id": "f69039f5",
   "metadata": {
    "orderProperties": []
   },
   "source": [
    "## Conclusion\n",
    "\n",
    "In this runbook we saw how easy it is to piece together a Runbook with pre-built and custom-legos that can achieve the task of identifying the failed Deployments and posting it on Slack. To learn more about the full capability of unSkript platform please visit https://us.app.unskript.io "
   ]
  }
 ],
 "metadata": {
  "execution_data": {
   "environment_id": "",
   "environment_name": "",
   "execution_id": "",
   "inputs_for_searched_lego": "",
   "notebook_id": "workflow.ipynb",
   "parameters": [
    "Channel",
    "ClusterName",
    "Region",
    "ServiceName"
   ],
   "runbook_name": "Detect ECS failed deployments",
   "search_string": "",
   "show_tool_tip": false,
   "tenant_id": "",
   "tenant_url": "",
   "user_email_id": "",
   "workflow_id": "755dbe40-22d7-4b70-a04d-31d34bb04e4a"
  },
  "kernelspec": {
   "display_name": "unSkript (Build: 1094)",
   "language": "python",
   "name": "python3"
  },
  "language_info": {
   "codemirror_mode": {
    "name": "ipython",
    "version": 3
   },
   "file_extension": ".py",
   "mimetype": "text/x-python",
   "name": "python",
   "nbconvert_exporter": "python",
   "pygments_lexer": "ipython3",
   "version": "3.9.6"
  },
  "parameterSchema": {
   "properties": {
    "Channel": {
     "description": "Slack channel name",
     "title": "Channel",
     "type": "string"
    },
    "ClusterName": {
     "description": "ECS Cluster name",
     "title": "ClusterName",
     "type": "string"
    },
    "Region": {
     "description": "AWS Region of the ECS cluster",
     "title": "Region",
     "type": "string"
    },
    "ServiceName": {
     "description": "ECS Service name under the cluster",
     "title": "ServiceName",
     "type": "string"
    }
   },
   "required": [
    "Channel",
    "ClusterName",
    "Region",
    "ServiceName"
   ],
   "title": "Schema",
   "type": "object"
  },
  "vscode": {
   "interpreter": {
    "hash": "31f2aee4e71d21fbe5cf8b01ff0e069b9275f58929596ceb00d14d90e3e16cd6"
   }
  }
 },
 "nbformat": 4,
 "nbformat_minor": 5
}
